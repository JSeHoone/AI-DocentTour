{
 "cells": [
  {
   "cell_type": "code",
   "execution_count": 8,
   "metadata": {},
   "outputs": [
    {
     "data": {
      "text/html": [
       "<div>\n",
       "<style scoped>\n",
       "    .dataframe tbody tr th:only-of-type {\n",
       "        vertical-align: middle;\n",
       "    }\n",
       "\n",
       "    .dataframe tbody tr th {\n",
       "        vertical-align: top;\n",
       "    }\n",
       "\n",
       "    .dataframe thead th {\n",
       "        text-align: right;\n",
       "    }\n",
       "</style>\n",
       "<table border=\"1\" class=\"dataframe\">\n",
       "  <thead>\n",
       "    <tr style=\"text-align: right;\">\n",
       "      <th></th>\n",
       "      <th>내용</th>\n",
       "      <th>비고</th>\n",
       "    </tr>\n",
       "    <tr>\n",
       "      <th>시간</th>\n",
       "      <th></th>\n",
       "      <th></th>\n",
       "    </tr>\n",
       "  </thead>\n",
       "  <tbody>\n",
       "    <tr>\n",
       "      <th>[09:30 ~ 10:30]</th>\n",
       "      <td>추사고택</td>\n",
       "      <td>역사인물 추사 김정희의 고택 및 기념관</td>\n",
       "    </tr>\n",
       "    <tr>\n",
       "      <th>[10:40 ~ 11:20]</th>\n",
       "      <td>화암사</td>\n",
       "      <td>추사 김정희의 필적 암각문이 있는 절</td>\n",
       "    </tr>\n",
       "    <tr>\n",
       "      <th>[12:00 ~ 13:00]</th>\n",
       "      <td>점심식사</td>\n",
       "      <td>수덕사 산채정식</td>\n",
       "    </tr>\n",
       "    <tr>\n",
       "      <th>[13:10 ~ 14:30]</th>\n",
       "      <td>수덕사</td>\n",
       "      <td>백제 시대의 천년 고찰 수덕사</td>\n",
       "    </tr>\n",
       "    <tr>\n",
       "      <th>[14:50 ~ 15:50]</th>\n",
       "      <td>충의사</td>\n",
       "      <td>윤봉길 의사를 기리는 장소(기념관 포함)</td>\n",
       "    </tr>\n",
       "    <tr>\n",
       "      <th>[16:00 ~ 17:00]</th>\n",
       "      <td>내포보부상촌</td>\n",
       "      <td>보부상의 역사를 알아보는 보부상촌 탐방</td>\n",
       "    </tr>\n",
       "    <tr>\n",
       "      <th>[17:30 ~ 19:00]</th>\n",
       "      <td>저녁식사</td>\n",
       "      <td>예당호 민물어죽 또는 붕어찜</td>\n",
       "    </tr>\n",
       "    <tr>\n",
       "      <th>[19:30 ~ 20:30]</th>\n",
       "      <td>예당호출렁다리와 야간음악분수</td>\n",
       "      <td>예당호출렁다리와 야간음악분수 관람</td>\n",
       "    </tr>\n",
       "  </tbody>\n",
       "</table>\n",
       "</div>"
      ],
      "text/plain": [
       "                              내용                      비고\n",
       "시간                                                      \n",
       "[09:30 ~ 10:30]             추사고택   역사인물 추사 김정희의 고택 및 기념관\n",
       "[10:40 ~ 11:20]              화암사    추사 김정희의 필적 암각문이 있는 절\n",
       "[12:00 ~ 13:00]             점심식사                수덕사 산채정식\n",
       "[13:10 ~ 14:30]              수덕사        백제 시대의 천년 고찰 수덕사\n",
       "[14:50 ~ 15:50]              충의사  윤봉길 의사를 기리는 장소(기념관 포함)\n",
       "[16:00 ~ 17:00]           내포보부상촌   보부상의 역사를 알아보는 보부상촌 탐방\n",
       "[17:30 ~ 19:00]             저녁식사         예당호 민물어죽 또는 붕어찜\n",
       "[19:30 ~ 20:30]  예당호출렁다리와 야간음악분수      예당호출렁다리와 야간음악분수 관람"
      ]
     },
     "execution_count": 8,
     "metadata": {},
     "output_type": "execute_result"
    }
   ],
   "source": [
    "import pandas as pd\n",
    "df_f = pd.read_csv('daily_traditional.csv', encoding='utf-8', index_col=0)\n",
    "df_f"
   ]
  },
  {
   "cell_type": "code",
   "execution_count": 2,
   "metadata": {},
   "outputs": [],
   "source": [
    "# 도슨트 투어란?\n",
    "# -> 해당 작품에 대한 스토리 텔러\n",
    "\n",
    "# 그러면 우리는 예산군에 대해서 알려줄 수 있는 인공지능을 만드는 것이 중요하다\n",
    "# 어떻게 만들면 되는 것일까?\n",
    "\n",
    "\n",
    "# 예산 군청에 있는 데이터를 토대로 알려주는 챗봇을 만들면 되지 않을까 싶네요 !"
   ]
  },
  {
   "cell_type": "code",
   "execution_count": 4,
   "metadata": {},
   "outputs": [
    {
     "ename": "SyntaxError",
     "evalue": "invalid syntax (3091181630.py, line 1)",
     "output_type": "error",
     "traceback": [
      "\u001b[1;36m  Cell \u001b[1;32mIn[4], line 1\u001b[1;36m\u001b[0m\n\u001b[1;33m    원하시는 선택지를 골라주세요\u001b[0m\n\u001b[1;37m         ^\u001b[0m\n\u001b[1;31mSyntaxError\u001b[0m\u001b[1;31m:\u001b[0m invalid syntax\n"
     ]
    }
   ],
   "source": [
    "원하시는 선택지를 골라주세요\n",
    "1. 추천테마여행 2. 예산여행지도 3. 미정\n",
    "\n",
    "# 추천 테마 여행을 선택 시\n",
    "추천 테마 여행을 고르셨군요 !\n",
    "여행일을 선택해주세요.\n",
    "1. 당일 2. 1박 2일 3. 2박 3일\n",
    "\n",
    "# 당일 코스 \n"
   ]
  },
  {
   "cell_type": "code",
   "execution_count": 5,
   "metadata": {},
   "outputs": [],
   "source": [
    "category = input(\"원하시는 선택지를 골라주세요.\")"
   ]
  },
  {
   "cell_type": "code",
   "execution_count": null,
   "metadata": {},
   "outputs": [],
   "source": []
  }
 ],
 "metadata": {
  "kernelspec": {
   "display_name": "pytorch_test",
   "language": "python",
   "name": "python3"
  },
  "language_info": {
   "codemirror_mode": {
    "name": "ipython",
    "version": 3
   },
   "file_extension": ".py",
   "mimetype": "text/x-python",
   "name": "python",
   "nbconvert_exporter": "python",
   "pygments_lexer": "ipython3",
   "version": "3.8.16"
  },
  "orig_nbformat": 4
 },
 "nbformat": 4,
 "nbformat_minor": 2
}
